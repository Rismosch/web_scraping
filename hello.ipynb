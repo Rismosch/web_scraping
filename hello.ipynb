{
 "cells": [
  {
   "cell_type": "code",
   "execution_count": 4,
   "id": "96492771-2f40-4016-a9bb-759ef7a7633e",
   "metadata": {},
   "outputs": [
    {
     "name": "stdout",
     "output_type": "stream",
     "text": [
      "Requirement already satisfied: html5lib in c:\\users\\rismosch\\appdata\\local\\programs\\python\\python310\\lib\\site-packages (1.1)\n",
      "Requirement already satisfied: six>=1.9 in c:\\users\\rismosch\\appdata\\roaming\\python\\python310\\site-packages (from html5lib) (1.16.0)\n",
      "Requirement already satisfied: webencodings in c:\\users\\rismosch\\appdata\\local\\programs\\python\\python310\\lib\\site-packages (from html5lib) (0.5.1)\n",
      "Requirement already satisfied: tqdm in c:\\users\\rismosch\\appdata\\local\\programs\\python\\python310\\lib\\site-packages (4.64.1)\n",
      "Requirement already satisfied: colorama in c:\\users\\rismosch\\appdata\\roaming\\python\\python310\\site-packages (from tqdm) (0.4.5)\n",
      "Collecting pandas\n",
      "  Downloading pandas-1.5.1-cp310-cp310-win_amd64.whl (10.4 MB)\n",
      "     ---------------------------------------- 10.4/10.4 MB 2.7 MB/s eta 0:00:00\n",
      "Collecting numpy>=1.21.0\n",
      "  Downloading numpy-1.23.4-cp310-cp310-win_amd64.whl (14.6 MB)\n",
      "     ---------------------------------------- 14.6/14.6 MB 2.7 MB/s eta 0:00:00\n",
      "Requirement already satisfied: pytz>=2020.1 in c:\\users\\rismosch\\appdata\\local\\programs\\python\\python310\\lib\\site-packages (from pandas) (2022.5)\n",
      "Requirement already satisfied: python-dateutil>=2.8.1 in c:\\users\\rismosch\\appdata\\roaming\\python\\python310\\site-packages (from pandas) (2.8.2)\n",
      "Requirement already satisfied: six>=1.5 in c:\\users\\rismosch\\appdata\\roaming\\python\\python310\\site-packages (from python-dateutil>=2.8.1->pandas) (1.16.0)\n",
      "Installing collected packages: numpy, pandas\n",
      "Successfully installed numpy-1.23.4 pandas-1.5.1\n"
     ]
    }
   ],
   "source": [
    "!pip install html5lib\n",
    "!pip install tqdm\n",
    "!pip install pandas\n",
    "import requests\n",
    "from bs4 import BeautifulSoup\n",
    "from tqdm import tqdm\n",
    "import pandas as pd\n",
    "import html5lib"
   ]
  },
  {
   "cell_type": "code",
   "execution_count": 19,
   "id": "0a6b70d3-867a-48b5-90b3-a140a8d5a848",
   "metadata": {},
   "outputs": [],
   "source": [
    "url = \"https://books.toscrape.com\"\n",
    "response = requests.get(url)\n",
    "soup = BeautifulSoup(response.text)"
   ]
  },
  {
   "cell_type": "code",
   "execution_count": 28,
   "id": "ce27439a-de90-41a8-97c9-59e746bee240",
   "metadata": {},
   "outputs": [
    {
     "name": "stdout",
     "output_type": "stream",
     "text": [
      "b'\\n            \\n                Page 1 of 50\\n            \\n            '\n",
      "Page 1 of 50\n"
     ]
    }
   ],
   "source": [
    "all_current = soup.find_all(\"li\", {\"class\": \"current\"})\n",
    "current = all_current[0]\n",
    "encoded = current.encode_contents().decode(\"utf-8\")\n",
    "splits = encoded.split(\"\\n\")\n",
    "page_string = splits[2].strip()\n",
    "print(current.encode_contents())\n",
    "print(page_string)"
   ]
  },
  {
   "cell_type": "code",
   "execution_count": null,
   "id": "ddfba652-e98b-467a-a702-a8e53511421a",
   "metadata": {},
   "outputs": [],
   "source": []
  }
 ],
 "metadata": {
  "kernelspec": {
   "display_name": "Python 3 (ipykernel)",
   "language": "python",
   "name": "python3"
  },
  "language_info": {
   "codemirror_mode": {
    "name": "ipython",
    "version": 3
   },
   "file_extension": ".py",
   "mimetype": "text/x-python",
   "name": "python",
   "nbconvert_exporter": "python",
   "pygments_lexer": "ipython3",
   "version": "3.10.8"
  }
 },
 "nbformat": 4,
 "nbformat_minor": 5
}
