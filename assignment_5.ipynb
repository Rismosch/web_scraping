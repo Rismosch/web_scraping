{
 "cells": [
  {
   "cell_type": "code",
   "execution_count": 1,
   "id": "b7d2b39e-d7ce-4c8e-bda2-50530fd05c8c",
   "metadata": {},
   "outputs": [
    {
     "name": "stdout",
     "output_type": "stream",
     "text": [
      "Requirement already satisfied: html5lib in c:\\users\\rismosch\\appdata\\local\\programs\\python\\python310\\lib\\site-packages (1.1)"
     ]
    },
    {
     "name": "stderr",
     "output_type": "stream",
     "text": [
      "\n",
      "[notice] A new release of pip available: 22.3 -> 22.3.1\n",
      "[notice] To update, run: C:\\Users\\Rismosch\\AppData\\Local\\Programs\\Python\\Python310\\python.exe -m pip install --upgrade pip\n"
     ]
    },
    {
     "name": "stdout",
     "output_type": "stream",
     "text": [
      "\n",
      "Requirement already satisfied: six>=1.9 in c:\\users\\rismosch\\appdata\\roaming\\python\\python310\\site-packages (from html5lib) (1.16.0)\n",
      "Requirement already satisfied: webencodings in c:\\users\\rismosch\\appdata\\local\\programs\\python\\python310\\lib\\site-packages (from html5lib) (0.5.1)\n",
      "Requirement already satisfied: tqdm in c:\\users\\rismosch\\appdata\\local\\programs\\python\\python310\\lib\\site-packages (4.64.1)\n",
      "Requirement already satisfied: colorama in c:\\users\\rismosch\\appdata\\roaming\\python\\python310\\site-packages (from tqdm) (0.4.5)\n"
     ]
    },
    {
     "name": "stderr",
     "output_type": "stream",
     "text": [
      "\n",
      "[notice] A new release of pip available: 22.3 -> 22.3.1\n",
      "[notice] To update, run: C:\\Users\\Rismosch\\AppData\\Local\\Programs\\Python\\Python310\\python.exe -m pip install --upgrade pip\n",
      "\n",
      "[notice] A new release of pip available: 22.3 -> 22.3.1\n",
      "[notice] To update, run: C:\\Users\\Rismosch\\AppData\\Local\\Programs\\Python\\Python310\\python.exe -m pip install --upgrade pip\n"
     ]
    },
    {
     "name": "stdout",
     "output_type": "stream",
     "text": [
      "Requirement already satisfied: pandas in c:\\users\\rismosch\\appdata\\local\\programs\\python\\python310\\lib\\site-packages (1.5.1)\n",
      "Requirement already satisfied: python-dateutil>=2.8.1 in c:\\users\\rismosch\\appdata\\roaming\\python\\python310\\site-packages (from pandas) (2.8.2)\n",
      "Requirement already satisfied: numpy>=1.21.0 in c:\\users\\rismosch\\appdata\\local\\programs\\python\\python310\\lib\\site-packages (from pandas) (1.23.4)\n",
      "Requirement already satisfied: pytz>=2020.1 in c:\\users\\rismosch\\appdata\\local\\programs\\python\\python310\\lib\\site-packages (from pandas) (2022.5)\n",
      "Requirement already satisfied: six>=1.5 in c:\\users\\rismosch\\appdata\\roaming\\python\\python310\\site-packages (from python-dateutil>=2.8.1->pandas) (1.16.0)\n"
     ]
    }
   ],
   "source": [
    "!pip install html5lib\n",
    "!pip install tqdm\n",
    "!pip install pandas\n",
    "import requests\n",
    "from bs4 import BeautifulSoup\n",
    "from tqdm import tqdm\n",
    "import pandas as pd\n",
    "import html5lib"
   ]
  },
  {
   "cell_type": "code",
   "execution_count": 2,
   "id": "a36af57b-f56b-4a79-9a2c-7940e4a3350a",
   "metadata": {},
   "outputs": [
    {
     "name": "stdout",
     "output_type": "stream",
     "text": [
      "              name                                               link\n",
      "0      Netherlands  https://us.soccerway.com///teams/netherlands/n...\n",
      "1          Ecuador  https://us.soccerway.com///teams/ecuador/ecuad...\n",
      "2          Senegal  https://us.soccerway.com///teams/senegal/seneg...\n",
      "3            Qatar  https://us.soccerway.com///teams/qatar/qatar/1...\n",
      "4          England  https://us.soccerway.com///teams/england/engla...\n",
      "5             Iran   https://us.soccerway.com///teams/iran/iran/1178/\n",
      "6    United States  https://us.soccerway.com///teams/united-states...\n",
      "7            Wales  https://us.soccerway.com///teams/wales/wales/2...\n",
      "8     Saudi Arabia  https://us.soccerway.com///teams/saudi-arabia/...\n",
      "9           Poland  https://us.soccerway.com///teams/poland/poland...\n",
      "10          Mexico  https://us.soccerway.com///teams/mexico/mexico...\n",
      "11       Argentina  https://us.soccerway.com///teams/argentina/arg...\n",
      "12          France  https://us.soccerway.com///teams/france/france...\n",
      "13         Tunisia  https://us.soccerway.com///teams/tunisia/tunis...\n",
      "14         Denmark  https://us.soccerway.com///teams/denmark/denma...\n",
      "15       Australia  https://us.soccerway.com///teams/australia/aus...\n",
      "16           Spain  https://us.soccerway.com///teams/spain/spain/2...\n",
      "17           Japan  https://us.soccerway.com///teams/japan/japan/1...\n",
      "18         Germany  https://us.soccerway.com///teams/germany/germa...\n",
      "19      Costa Rica  https://us.soccerway.com///teams/costa-rica/co...\n",
      "20         Belgium  https://us.soccerway.com///teams/belgium/belgi...\n",
      "21         Croatia  https://us.soccerway.com///teams/croatia/croat...\n",
      "22         Morocco  https://us.soccerway.com///teams/morocco/moroc...\n",
      "23          Canada  https://us.soccerway.com///teams/canada/canada...\n",
      "24          Brazil  https://us.soccerway.com///teams/brazil/brazil...\n",
      "25     Switzerland  https://us.soccerway.com///teams/switzerland/s...\n",
      "26        Cameroon  https://us.soccerway.com///teams/cameroon/came...\n",
      "27          Serbia  https://us.soccerway.com///teams/serbia/serbia...\n",
      "28        Portugal  https://us.soccerway.com///teams/portugal/port...\n",
      "29  Korea Republic  https://us.soccerway.com///teams/korea-republi...\n",
      "30         Uruguay  https://us.soccerway.com///teams/uruguay/urugu...\n",
      "31           Ghana  https://us.soccerway.com///teams/ghana/ghana/1...\n"
     ]
    }
   ],
   "source": [
    "url = \"https://us.soccerway.com/international/world/world-cup/2022-qatar/group-stage/r49519/\"\n",
    "group_div = \"block_competition_tables_group-wrapper\"\n",
    "\n",
    "my_agent = {\"user-agent\": \"Mozilla/5.0 (Macintosh; Intel Mac OS X 10_15_7) AppleWebKit/605.1.15 (KHTML, like Gecko) Version/15.4 Safari/605.1.15\"}\n",
    "response = requests.get(url, headers = my_agent)\n",
    "soup = BeautifulSoup(response.text)\n",
    "\n",
    "all_current = soup.find_all(\"div\", {\"class\": group_div})\n",
    "\n",
    "team_list = []\n",
    "\n",
    "for div in all_current:\n",
    "    \n",
    "    tables = div.findChildren(\"table\", recursive=True)\n",
    "    table = tables[0]\n",
    "    \n",
    "    trs = table.findChildren(\"tr\", recursive=True)\n",
    "\n",
    "    for tr in trs:\n",
    "        tds = tr.findChildren(\"td\", recursive=True)\n",
    "        for td in tds:\n",
    "            classes = td.get(\"class\")\n",
    "            if 'large-link' in classes:\n",
    "                team_name = td.findChildren(\"a\")[0].contents[0]\n",
    "                href = td.findChildren(\"a\")[0][\"href\"]\n",
    "                \n",
    "                base_url = \"https://us.soccerway.com/\"\n",
    "                link = f'{base_url}/{href}'\n",
    "                \n",
    "                team = {\n",
    "                    \"name\": team_name,\n",
    "                    \"link\": link,\n",
    "                }\n",
    "                \n",
    "                team_list.append(team)\n",
    "            \n",
    "data_frame = pd.DataFrame(data=team_list)\n",
    "print(data_frame)"
   ]
  },
  {
   "cell_type": "code",
   "execution_count": 4,
   "id": "8f2f1302-bdbd-4374-87ed-0ad5e3feda17",
   "metadata": {},
   "outputs": [
    {
     "name": "stdout",
     "output_type": "stream",
     "text": [
      "https://us.soccerway.com///teams/netherlands/netherlands/1552/matches/\n"
     ]
    }
   ],
   "source": [
    "first_team = team_list[0]\n",
    "\n",
    "match = f'{first_team[\"link\"]}matches/'\n",
    "\n",
    "print(match)"
   ]
  },
  {
   "cell_type": "code",
   "execution_count": null,
   "id": "13796608-1564-476d-a71c-417d2c9535c0",
   "metadata": {},
   "outputs": [],
   "source": []
  }
 ],
 "metadata": {
  "kernelspec": {
   "display_name": "Python 3 (ipykernel)",
   "language": "python",
   "name": "python3"
  },
  "language_info": {
   "codemirror_mode": {
    "name": "ipython",
    "version": 3
   },
   "file_extension": ".py",
   "mimetype": "text/x-python",
   "name": "python",
   "nbconvert_exporter": "python",
   "pygments_lexer": "ipython3",
   "version": "3.10.8"
  }
 },
 "nbformat": 4,
 "nbformat_minor": 5
}
